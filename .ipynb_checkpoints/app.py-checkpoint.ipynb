{
 "cells": [
  {
   "cell_type": "code",
   "execution_count": 1,
   "id": "1d1032db",
   "metadata": {},
   "outputs": [],
   "source": [
    "# Import Dependencies and assign each of these an alias so we can easily reference them later.\n",
    "\n",
    "import datetime as dt\n",
    "import numpy as np\n",
    "import pandas as pd"
   ]
  },
  {
   "cell_type": "code",
   "execution_count": 2,
   "id": "b1966610",
   "metadata": {},
   "outputs": [],
   "source": [
    "# Import Dependencies for SQLAlchemy.\n",
    "import sqlalchemy\n",
    "from sqlalchemy.ext.automap import automap_base\n",
    "from sqlalchemy.orm import Session\n",
    "from sqlalchemy import create_engine, func"
   ]
  },
  {
   "cell_type": "code",
   "execution_count": 3,
   "id": "33ba8743",
   "metadata": {},
   "outputs": [],
   "source": [
    "# Import Dependencies for Flask object from the Flask package.\n",
    "from flask import Flask, jsonify"
   ]
  },
  {
   "cell_type": "code",
   "execution_count": 4,
   "id": "8806f71d",
   "metadata": {},
   "outputs": [],
   "source": [
    "# Set up Database engine for the Flask application.\n",
    "engine = create_engine(\"sqlite:///hawaii.sqlite\")"
   ]
  },
  {
   "cell_type": "code",
   "execution_count": 5,
   "id": "74bf7ffe",
   "metadata": {},
   "outputs": [],
   "source": [
    "# Reflect the database into our classes.\n",
    "Base = automap_base()"
   ]
  },
  {
   "cell_type": "code",
   "execution_count": 6,
   "id": "6d24ddb6",
   "metadata": {},
   "outputs": [],
   "source": [
    "Base.prepare(engine, reflect=True)"
   ]
  },
  {
   "cell_type": "code",
   "execution_count": 7,
   "id": "881d8bfb",
   "metadata": {},
   "outputs": [],
   "source": [
    "# Create a variable for each of the classes so that we can reference them later.\n",
    "Measurement = Base.classes.measurement\n",
    "Station = Base.classes.station"
   ]
  },
  {
   "cell_type": "code",
   "execution_count": 8,
   "id": "c4ea7c00",
   "metadata": {},
   "outputs": [],
   "source": [
    "# Create a session link from Python to our database.\n",
    "session = Session(engine)"
   ]
  },
  {
   "cell_type": "code",
   "execution_count": 11,
   "id": "eb775c67",
   "metadata": {},
   "outputs": [
    {
     "name": "stdout",
     "output_type": "stream",
     "text": [
      "app __name__ = %s __main__\n",
      "app is being run directly.\n"
     ]
    }
   ],
   "source": [
    "# Import our app.py file into another Python file\n",
    "import app\n",
    "\n",
    "print(\"app __name__ = %s\", __name__)\n",
    "\n",
    "if __name__ == \"__main__\":\n",
    "    print(\"app is being run directly.\")\n",
    "else:\n",
    "    print(\"app is being imported\")"
   ]
  },
  {
   "cell_type": "code",
   "execution_count": null,
   "id": "5ba38ce4",
   "metadata": {},
   "outputs": [],
   "source": []
  }
 ],
 "metadata": {
  "kernelspec": {
   "display_name": "PythonData",
   "language": "python",
   "name": "pythondata"
  },
  "language_info": {
   "codemirror_mode": {
    "name": "ipython",
    "version": 3
   },
   "file_extension": ".py",
   "mimetype": "text/x-python",
   "name": "python",
   "nbconvert_exporter": "python",
   "pygments_lexer": "ipython3",
   "version": "3.7.10"
  }
 },
 "nbformat": 4,
 "nbformat_minor": 5
}
